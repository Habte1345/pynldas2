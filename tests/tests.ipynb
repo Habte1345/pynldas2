{
 "cells": [
  {
   "cell_type": "code",
   "execution_count": 1,
   "metadata": {},
   "outputs": [],
   "source": [
    "import os\n",
    "import osgeo\n",
    "import pynldas2 as nldas\n",
    "\n",
    "from shapely import Polygon, Point"
   ]
  },
  {
   "cell_type": "code",
   "execution_count": 2,
   "metadata": {},
   "outputs": [],
   "source": [
    "import importlib\n",
    "importlib.reload(nldas);"
   ]
  },
  {
   "cell_type": "code",
   "execution_count": 3,
   "metadata": {},
   "outputs": [],
   "source": [
    "GEOM = Polygon(\n",
    "    [[-69.77, 45.07], [-69.31, 45.07], [-69.31, 45.45], [-69.77, 45.45], [-69.77, 45.07]]\n",
    ")\n",
    "VAR = [\"prcp\", \"pet\"]\n",
    "DEF_CRS = 4326\n",
    "ALT_CRS = 3542\n",
    "COORDS = (-1431147.7928, 318483.4618)\n",
    "START = \"2022-01-01\"\n",
    "END = \"2022-01-31\"\n",
    "CONN = 1 if int(os.environ.get(\"GH_CI\", 0)) else 4"
   ]
  },
  {
   "cell_type": "code",
   "execution_count": 4,
   "metadata": {},
   "outputs": [
    {
     "data": {
      "text/plain": [
       "<module 'pynldas2' (<_frozen_importlib_external.NamespaceLoader object at 0x000001BBB327AD90>)>"
      ]
     },
     "execution_count": 4,
     "metadata": {},
     "output_type": "execute_result"
    }
   ],
   "source": [
    "nldas"
   ]
  },
  {
   "cell_type": "code",
   "execution_count": 5,
   "metadata": {},
   "outputs": [
    {
     "ename": "AttributeError",
     "evalue": "module 'pynldas2' has no attribute 'get_bycoords'",
     "output_type": "error",
     "traceback": [
      "\u001b[1;31m---------------------------------------------------------------------------\u001b[0m",
      "\u001b[1;31mAttributeError\u001b[0m                            Traceback (most recent call last)",
      "Cell \u001b[1;32mIn[5], line 1\u001b[0m\n\u001b[1;32m----> 1\u001b[0m clm \u001b[39m=\u001b[39m nldas\u001b[39m.\u001b[39;49mget_bycoords(COORDS, START, END, crs\u001b[39m=\u001b[39mALT_CRS, variables\u001b[39m=\u001b[39m[\u001b[39m'\u001b[39m\u001b[39mprcp\u001b[39m\u001b[39m'\u001b[39m,\u001b[39m'\u001b[39m\u001b[39mpet\u001b[39m\u001b[39m'\u001b[39m], n_conn\u001b[39m=\u001b[39mCONN, source\u001b[39m=\u001b[39m\u001b[39m\"\u001b[39m\u001b[39mgrib\u001b[39m\u001b[39m\"\u001b[39m)\n",
      "\u001b[1;31mAttributeError\u001b[0m: module 'pynldas2' has no attribute 'get_bycoords'"
     ]
    }
   ],
   "source": [
    "clm = nldas.get_bycoords(COORDS, START, END, crs=ALT_CRS, variables=['prcp','pet'], n_conn=CONN, source=\"grib\")"
   ]
  },
  {
   "cell_type": "code",
   "execution_count": 6,
   "metadata": {},
   "outputs": [
    {
     "ename": "NameError",
     "evalue": "name 'clm' is not defined",
     "output_type": "error",
     "traceback": [
      "\u001b[1;31m---------------------------------------------------------------------------\u001b[0m",
      "\u001b[1;31mNameError\u001b[0m                                 Traceback (most recent call last)",
      "Cell \u001b[1;32mIn[6], line 1\u001b[0m\n\u001b[1;32m----> 1\u001b[0m clm\n",
      "\u001b[1;31mNameError\u001b[0m: name 'clm' is not defined"
     ]
    }
   ],
   "source": [
    "clm"
   ]
  },
  {
   "cell_type": "code",
   "execution_count": 25,
   "metadata": {},
   "outputs": [
    {
     "data": {
      "text/plain": [
       "0.12424919346774194"
      ]
     },
     "execution_count": 25,
     "metadata": {},
     "output_type": "execute_result"
    }
   ],
   "source": [
    "clm.pet.mean()"
   ]
  },
  {
   "cell_type": "code",
   "execution_count": 26,
   "metadata": {},
   "outputs": [
    {
     "data": {
      "text/plain": [
       "0.005780376344086022"
      ]
     },
     "execution_count": 26,
     "metadata": {},
     "output_type": "execute_result"
    }
   ],
   "source": [
    "clm.prcp.mean()"
   ]
  },
  {
   "cell_type": "code",
   "execution_count": 9,
   "metadata": {},
   "outputs": [],
   "source": [
    "clm = nldas.get_bycoords(\n",
    "        COORDS, START, END, crs=ALT_CRS, source=SOURCE_NETCDF, variables='prcp', n_conn=CONN\n",
    "    )"
   ]
  },
  {
   "cell_type": "code",
   "execution_count": 16,
   "metadata": {},
   "outputs": [],
   "source": [
    "clm = nldas.get_bycoords([COORDS], START, END, crs=ALT_CRS, variables=VAR, n_conn=CONN, source='netcdf')"
   ]
  },
  {
   "cell_type": "code",
   "execution_count": 17,
   "metadata": {},
   "outputs": [
    {
     "data": {
      "text/html": [
       "<div>\n",
       "<style scoped>\n",
       "    .dataframe tbody tr th:only-of-type {\n",
       "        vertical-align: middle;\n",
       "    }\n",
       "\n",
       "    .dataframe tbody tr th {\n",
       "        vertical-align: top;\n",
       "    }\n",
       "\n",
       "    .dataframe thead th {\n",
       "        text-align: right;\n",
       "    }\n",
       "</style>\n",
       "<table border=\"1\" class=\"dataframe\">\n",
       "  <thead>\n",
       "    <tr style=\"text-align: right;\">\n",
       "      <th></th>\n",
       "      <th>pet</th>\n",
       "      <th>prcp</th>\n",
       "    </tr>\n",
       "    <tr>\n",
       "      <th>time</th>\n",
       "      <th></th>\n",
       "      <th></th>\n",
       "    </tr>\n",
       "  </thead>\n",
       "  <tbody>\n",
       "  </tbody>\n",
       "</table>\n",
       "</div>"
      ],
      "text/plain": [
       "Empty DataFrame\n",
       "Columns: [pet, prcp]\n",
       "Index: []"
      ]
     },
     "execution_count": 17,
     "metadata": {},
     "output_type": "execute_result"
    }
   ],
   "source": [
    "clm"
   ]
  },
  {
   "cell_type": "code",
   "execution_count": 8,
   "metadata": {},
   "outputs": [],
   "source": [
    "from pynldas2.exceptions import InputRangeError, InputTypeError, InputValueError, NLDASServiceError\n",
    "import pandas as pd\n",
    "\n",
    "NLDAS_VARS_GRIB = {\n",
    "    \"prcp\": {\"nldas_name\": \"APCPsfc\", \"long_name\": \"Precipitation hourly total\", \"units\": \"mm\"},\n",
    "    \"pet\": {\"nldas_name\": \"PEVAPsfc\", \"long_name\": \"Potential evaporation\", \"units\": \"mm\"},\n",
    "    \"temp\": {\"nldas_name\": \"TMP2m\", \"long_name\": \"2-m above ground temperature\", \"units\": \"K\"},\n",
    "    \"wind_u\": {\n",
    "        \"nldas_name\": \"UGRD10m\",\n",
    "        \"long_name\": \"10-m above ground zonal wind\",\n",
    "        \"units\": \"m/s\",\n",
    "    },\n",
    "    \"wind_v\": {\n",
    "        \"nldas_name\": \"VGRD10m\",\n",
    "        \"long_name\": \"10-m above ground meridional wind\",\n",
    "        \"units\": \"m/s\",\n",
    "    },\n",
    "    \"rlds\": {\n",
    "        \"nldas_name\": \"DLWRFsfc\",\n",
    "        \"long_name\": \"Surface DW longwave radiation flux\",\n",
    "        \"units\": \"W/m^2\",\n",
    "    },\n",
    "    \"rsds\": {\n",
    "        \"nldas_name\": \"DSWRFsfc\",\n",
    "        \"long_name\": \"Surface DW shortwave radiation flux\",\n",
    "        \"units\": \"W/m^2\",\n",
    "    },\n",
    "    \"humidity\": {\n",
    "        \"nldas_name\": \"SPFH2m\",\n",
    "        \"long_name\": \"2-m above ground specific humidity\",\n",
    "        \"units\": \"kg/kg\",\n",
    "    },\n",
    "}\n",
    "\n",
    "NLDAS_VARS_NETCDF = {\n",
    "    \"prcp\": {\"nldas_name\": \"Rainf\", \"long_name\": \"Total precipitation\", \"units\": \"kg/m^2\"},\n",
    "    \"rlds\": {\n",
    "        \"nldas_name\": \"LWdown\",\n",
    "        \"long_name\": \"Surface downward longwave radiation\",\n",
    "        \"units\": \"W/m^2\",\n",
    "    },\n",
    "    \"rsds\": {\n",
    "        \"nldas_name\": \"SWdown\",\n",
    "        \"long_name\": \"Surface downward shortwave radiation\",\n",
    "        \"units\": \"W/m^2\",\n",
    "    },\n",
    "    \"pet\": {\"nldas_name\": \"PotEvap\", \"long_name\": \"Potential evaporation\", \"units\": \"kg/m^2\"},\n",
    "    \"psurf\": {\"nldas_name\": \"PSurf\", \"long_name\": \"Surface pressure\", \"units\": \"Pa\"},\n",
    "    \"humidity\": {\n",
    "        \"nldas_name\": \"Qair\",\n",
    "        \"long_name\": \"2-m above ground specific humidity\",\n",
    "        \"units\": \"kg/kg\",\n",
    "    },\n",
    "    \"temp\": {\n",
    "        \"nldas_name\": \"Tair\",\n",
    "        \"long_name\": \"2-m above ground temperature\",\n",
    "        \"units\": \"K\",\n",
    "    },\n",
    "    \"wind_u\": {\n",
    "        \"nldas_name\": \"Wind_E\",\n",
    "        \"long_name\": \"U wind component at 10-m above the surface\",\n",
    "        \"units\": \"m/s\",\n",
    "    },\n",
    "    \"wind_v\": {\n",
    "        \"nldas_name\": \"Wind_N\",\n",
    "        \"long_name\": \"V wind component at 10-m above the surface\",\n",
    "        \"units\": \"m/s\",\n",
    "    },\n",
    "}\n",
    "\n",
    "\n",
    "def check_inputs(\n",
    "    start_date: str,\n",
    "    end_date: str,\n",
    "    variables: str | list[str] | None = None,\n",
    "    snow: bool = False,\n",
    "    source: str = \"grib\",\n",
    ") -> tuple[list[pd.Timestamp], list[str], dict[str, dict[str, str]]]:\n",
    "    \"\"\"Check inputs.\"\"\"\n",
    "    start = pd.to_datetime(start_date)\n",
    "    end = pd.to_datetime(end_date) + pd.Timedelta(\"1D\")\n",
    "    if start < pd.to_datetime(\"1979-01-01T13\"):\n",
    "        raise InputRangeError(\"start_date\", \"1979-01-01 to yesterday\")\n",
    "    if end > pd.Timestamp.now() - pd.Timedelta(\"1D\"):\n",
    "        raise InputRangeError(\"end_date\", \"1979-01-01 to yesterday\")\n",
    "    if end <= start:\n",
    "        raise InputRangeError(\"end_date\", \"after start_date\")\n",
    "\n",
    "    dates = pd.date_range(start, end, freq=\"10000D\").tolist()\n",
    "    dates = dates + [end] if dates[-1] < end else dates\n",
    "\n",
    "    if source == \"grib\":\n",
    "        source_tag = \"NLDAS:NLDAS_FORA0125_H.002\"\n",
    "        nldas_vars = NLDAS_VARS_GRIB\n",
    "    elif source == \"netcdf\":\n",
    "        source_tag = \"NLDAS_FORA0125_H_v2.0\"\n",
    "        nldas_vars = NLDAS_VARS_NETCDF\n",
    "    else:\n",
    "        raise InputValueError(f\"Source: {source} is invalid\", [\"grib\", \"netcdf\"])\n",
    "\n",
    "    if variables is None:\n",
    "        clm_vars = [f\"{source_tag}:{d['nldas_name']}\" for d in nldas_vars.values()]\n",
    "    else:\n",
    "        clm_vars = [variables] if isinstance(variables, str) else list(variables)\n",
    "        clm_vars = clm_vars + [\"temp\"] if snow and \"temp\" not in clm_vars else clm_vars\n",
    "        if any(v not in nldas_vars for v in clm_vars):\n",
    "            raise InputValueError(\"variables\", list(nldas_vars))\n",
    "        clm_vars = [f\"{source_tag}:{nldas_vars[v]['nldas_name']}\" for v in clm_vars]\n",
    "\n",
    "    return dates, clm_vars, nldas_vars"
   ]
  },
  {
   "cell_type": "code",
   "execution_count": 12,
   "metadata": {},
   "outputs": [],
   "source": [
    "dates, clm_vars, nldas_vars = check_inputs(START, END, VAR, False, source=SOURCE_GRIB)"
   ]
  },
  {
   "cell_type": "code",
   "execution_count": 13,
   "metadata": {},
   "outputs": [
    {
     "data": {
      "text/plain": [
       "['NLDAS:NLDAS_FORA0125_H.002:APCPsfc', 'NLDAS:NLDAS_FORA0125_H.002:PEVAPsfc']"
      ]
     },
     "execution_count": 13,
     "metadata": {},
     "output_type": "execute_result"
    }
   ],
   "source": [
    "clm_vars"
   ]
  }
 ],
 "metadata": {
  "kernelspec": {
   "display_name": "hyriver-dev",
   "language": "python",
   "name": "python3"
  },
  "language_info": {
   "codemirror_mode": {
    "name": "ipython",
    "version": 3
   },
   "file_extension": ".py",
   "mimetype": "text/x-python",
   "name": "python",
   "nbconvert_exporter": "python",
   "pygments_lexer": "ipython3",
   "version": "3.11.3"
  },
  "orig_nbformat": 4
 },
 "nbformat": 4,
 "nbformat_minor": 2
}
